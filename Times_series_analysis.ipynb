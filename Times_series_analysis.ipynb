{
  "nbformat": 4,
  "nbformat_minor": 0,
  "metadata": {
    "colab": {
      "name": "Times series analysis.ipynb",
      "provenance": [],
      "collapsed_sections": [],
      "include_colab_link": true
    },
    "kernelspec": {
      "name": "python3",
      "display_name": "Python 3"
    },
    "language_info": {
      "name": "python"
    }
  },
  "cells": [
    {
      "cell_type": "markdown",
      "metadata": {
        "id": "view-in-github",
        "colab_type": "text"
      },
      "source": [
        "<a href=\"https://colab.research.google.com/github/crgraham/Tweet-time-series-analysis/blob/main/Times_series_analysis.ipynb\" target=\"_parent\"><img src=\"https://colab.research.google.com/assets/colab-badge.svg\" alt=\"Open In Colab\"/></a>"
      ]
    },
    {
      "cell_type": "markdown",
      "source": [
        "# 1. Preliminaries: Fundamentals of time series analysis/forecasting\n",
        "\n",
        "i. A time series is a series of data points indexed (or listed or graphed) in time order: ${X_t: t=0,...,n}$\n",
        "\n",
        "ii. Common types of time series data include:\n",
        "<ul>\n",
        "<li>Meteorology: temperatures (low/high), precipitation, wind speed</li>\n",
        "<li>Agriculture: crop/livestock production, soil erosion, exports</li>\n",
        "<li>Biology: heart beats, blood pressure, EEG (electroencephalography)</li> \n",
        "<li>Economics/finance: evolution of interest rates, stock prices, prices, sales</li>\n",
        "<li>Spoken language data</li>\n",
        "</ul>\n",
        "\n",
        "iii. Time series analysis comprises methods for analyzing time series data in order to extract meaningful statistics and other characteristics of the data. It entails:\n",
        "<ul>\n",
        "<li>exploratory analysis</li>\n",
        "<li>auto-correlation analysis</li>\n",
        "<li>curve fitting (regression)</li>\n",
        "<li>decomposition</li>\n",
        "</ul>\n",
        "\n",
        "iv. Time series forecasting is the use of a model to predict future values based on previously observed values. It entails:\n",
        "<ul>\n",
        "<li>AR (Auto-Regressive), MA (Moving Average), ARIMA (Auto-Regressive Integrated Moving Average) modeling</li>\n",
        "</ul>\n",
        "\n",
        "v. These techniques differ from other statistical techniques in that:\n",
        "- observations are assumed to be dependent\n",
        "- the goal is to model dependence on time\n",
        "\n",
        "vi. **Basic concepts:**\n",
        "\n",
        "<ul>\n",
        "<li>correlation: a statistical technique that can show whether and how strongly pairs of variables are related.</li>\n",
        "\n",
        "<li>correlation coefficient: a statistical measure of the extent to which two factors vary together.</li>\n",
        "\n",
        "$cor(X,Y) =\\frac{E[(X-\\mu_x)(Y-\\mu_y)]}{\\sigma_x\\sigma_y} = \\frac{cov(X, Y)}{\\sigma_x\\sigma_y}$ \n",
        "\n",
        " ${X_t: t=0,...,n}, {Y_{t}: t=0,...,n}$\n",
        "\n",
        " <li>autocorrelation (AC): also known as serial correlation, is the correlation of a signal with a delayed copy of itself as a function of the delay. AC is a very important concept in time series analysis. It is used: (1) to analyse the autocorrelation function before regression analysis and (2) to uncover hidden pattern in data - such as identifying seasonality (defined below). It can be derived from the following formula:</li>\n",
        "\n",
        "\n",

        "$R_τ(X)=\\frac{E[(X_t - μ)(X_t+τ - μ)]}{σ^2}$\n",
        "\n",
        " τ is the delay lag.\n",
        "\n",
        "\n",
        "<li>stationarity: the statistical properties of a process (i.e., the mean, the variance and the covariance of the ith term and the i + m term should not be a function of time). This does not mean time series does not change over time, only that it assumes changes happen in a predictable way. Examples of techniques to calculate stationarity include: Random walk, Moving Average, Auto-Regressibe Integrated Moving Average (ARIMA). We can stationarise data through de-trending, differencing and logging - please consult the further resources links below for more on these concepts. We can use the Augmented Dickey Fuller test (ADF) to check if assumptions of stationarity are met or violated.</li>\n",
        "\n",
        "\n",
        "<li> ADF: The null hypothesis is that the time series possesses a unit root and is non-stationary. So, if the p-value in ADF test is less than the significance level (0.05), we reject the null hypothesis.</li>\n",
        "\n",
        "<li>seasonality: repetitive and predictable movement around the trend line. This is usually based on the season (month, year, etc.). We use the autocorrelation function (ACF) to identify seasonality. </li>\n",
        "</ul>\n",
        " \n",
        "**Further resources**:\n",
        "\n",
        "A more thorough introduction can be found in: \n",
        "\n",
        "Forecasting: Principles and Practice. R. J. Hyndman and G. Athanasopoulos. (https://otexts.com/fpp2/) \n",
        "\n",
        "Introduction to the Science of Statistics. Joseph C. Watkins. ( https://www.math.arizona.edu/~jwatkins/statbook.pdf) \n",
        "\n",
        "\n",
        "\n"
      ],
      "metadata": {
        "id": "DcOAfFFst9cd"
      }
    },
    {
      "cell_type": "markdown",
      "source": [
        "# 2. Aims of the study\n",
        "\n",
        "In this study I will perform a time-series analysis of tweet data. My specific aims are:\n",
        "\n",
        "<ol>\n",
        "<li>to decompose the data into trend, seasonal component, and remainder.</li>\n",
        "\n",
        "<li>to implement the auto-correlation function (ACF) to determine if the remainder is uncorrelated.</li>\n",
        "\n",
        "<li>to determine whether the trend data is a stochastic/stationary process. To do this, I will rely on two tests: (1) the rolling mean statistic test and (2) the ACF scatter plot of the time-series against a 1-lagged version of itself.</li>\n",
        "\n",
        "<li>to evaluate the quality of the model by examining the randomness of the remainder. A good model of the trend should lead to a remainder that is close to a normal random variable. There are multiple ways of checking the remainder, e.g., explicitly modelling its probability distribution, looking at its correlation structure, or using hypothesis tests. In this experiment I use a statistical test, the Augmented Dickey-Fuller (ADF) test to test the quality of the model.</li>\n",
        "</ol>"
      ],
      "metadata": {
        "id": "RPxIRwTY2qgp"
      }
    },
    {
      "cell_type": "markdown",
      "source": [
        "**Reminder**: This data is a time-series of the number of tweets per second. The first column is the time(in seconds) and the second column is the number of tweets observed during this second"
      ],
      "metadata": {
        "id": "2g3TDF8s7WkI"
      }
    },
    {
      "cell_type": "code",
      "metadata": {
        "id": "jBs4Ek-9-YEO",
        "outputId": "afbcc66d-df80-4b37-8294-0d8fea77e9f3",
        "colab": {
          "base_uri": "https://localhost:8080/"
        }
      },
      "source": [
        "#import packages\n",
        "import scipy.stats as sts\n",
        "import matplotlib.pyplot as plt\n",
        "import pandas as pd\n",
        "import pandas as pd\n",
        "import seaborn as sns\n",
        "import numpy as np\n",
        "from statsmodels.tsa.seasonal import seasonal_decompose\n",
        "\n",
        "#import data\n",
        "data =pd.read_csv(\"http://www.eecs.qmul.ac.uk/~linwang/download/ecs764//tweet-time-series\", header=None, sep=\" \")\n",
        "\n",
        "#Here I sub-select 70000:269999\n",
        "data = data.iloc[70000:270000, 1] "
      ],
      "execution_count": null,
      "outputs": [
        {
          "output_type": "stream",
          "name": "stderr",
          "text": [
            "/usr/local/lib/python3.7/dist-packages/statsmodels/tools/_testing.py:19: FutureWarning: pandas.util.testing is deprecated. Use the functions in the public API at pandas.testing instead.\n",
            "  import pandas.util.testing as tm\n"
          ]
        }
      ]
    },
    {
      "cell_type": "markdown",
      "source": [
        "# 3. Time-series analysis\n",
        "\n",
        "\n"
      ],
      "metadata": {
        "id": "BP5B6KD13UTz"
      }
    },
    {
      "cell_type": "markdown",
      "source": [
        "##3.1 Decomposition\n",
        "\n",
        "Here I decompose the sequence into trend, seasonal component, and remainder/residual."
      ],
      "metadata": {
        "id": "KoJHEjT-8jXQ"
      }
    },
    {
      "cell_type": "code",
      "metadata": {
        "id": "j4gJF93M_WKe",
        "outputId": "36a22e55-e3e7-4cf1-d32f-24fc290ac6f0",
        "colab": {
          "base_uri": "https://localhost:8080/"
        }
      },
      "source": [
        "result = seasonal_decompose(data, model=\"additive\", freq=100) \n",
        "trend = result.trend\n",
        "seasonal = result.seasonal\n",
        "remainder = result.resid\n",
        "#explore the decomposition\n",
        "print(trend)\n",
        "#trend\n",
        "#print(seasonal)\n",
        "#seasonal\n",
        "#print(remainder)\n",
        "#residual"
      ],
      "execution_count": null,
      "outputs": [
        {
          "output_type": "stream",
          "name": "stdout",
          "text": [
            "70000    NaN\n",
            "70001    NaN\n",
            "70002    NaN\n",
            "70003    NaN\n",
            "70004    NaN\n",
            "          ..\n",
            "269995   NaN\n",
            "269996   NaN\n",
            "269997   NaN\n",
            "269998   NaN\n",
            "269999   NaN\n",
            "Name: 1, Length: 200000, dtype: float64\n"
          ]
        }
      ]
    },
    {
      "cell_type": "code",
      "metadata": {
        "colab": {
          "base_uri": "https://localhost:8080/",
          "height": 331
        },
        "id": "TB0_KmLf4Vp2",
        "outputId": "a5fa9020-23e5-44fd-f454-2af122c8ceea"
      },
      "source": [
        "#Here I plot the results of the decomposition\n",
        "result.plot()\n",
        "plt.figure()"
      ],
      "execution_count": null,
      "outputs": [
        {
          "output_type": "execute_result",
          "data": {
            "text/plain": [
              "<Figure size 432x288 with 0 Axes>"
            ]
          },
          "metadata": {},
          "execution_count": 4
        },
        {
          "output_type": "display_data",
          "data": {
            "text/plain": [
              "<Figure size 432x288 with 4 Axes>"
            ],
            "image/png": "[encoded data removed]"
          },
          "metadata": {
            "needs_background": "light"
          }
        },
        {
          "output_type": "display_data",
          "data": {
            "text/plain": [
              "<Figure size 432x288 with 0 Axes>"
            ]
          },
          "metadata": {}
        }
      ]
    },
    {
      "cell_type": "markdown",
      "source": [
        "**Question 1**: What does the decompostition reveal about the time series, i.e, how can it best be described?\n",
        "\n",
        "**Answer**: Based on the decomposition of the time-series, the model that best describes the times series is a trend plus random noise."
      ],
      "metadata": {
        "id": "-ycpqQyy4Qcn"
      }
    },
    {
      "cell_type": "markdown",
      "source": [
        "##3.2. Correlation analysis\n",
        "The remainder component that results from the decomposition of the time-series should be uncorrelated, i.e., close to random noise. Here I examine whether this is the case based on the autocorrelation function (ACF: plot_acf())"
      ],
      "metadata": {
        "id": "IZ9Klpjg9EBj"
      }
    },
    {
      "cell_type": "code",
      "metadata": {
        "colab": {
          "base_uri": "https://localhost:8080/",
          "height": 647
        },
        "id": "g38e1s3HALwW",
        "outputId": "5aed4b71-fde2-44d1-d7c8-c6ee2bfc3137"
      },
      "source": [
        "import numpy as np\n",
        "import matplotlib\n",
        "import matplotlib.pyplot as plt\n",
        "import pandas as pd\n",
        "from statsmodels.graphics.tsaplots import plot_acf, plot_pacf\n",
        "result = seasonal_decompose(data, model=\"additive\", freq=100) \n",
        "# x is the remainder\n",
        "x = result.resid\n",
        "\n",
        "#Shapiro-Wilk (SW) test\n",
        "import scipy.stats as sts\n",
        "sw = sts.shapiro(x.dropna())\n",
        "print(sw)\n",
        "\n",
        "plt.figure()\n",
        "x.hist(bins=1000)\n",
        "plt.title('SW test: p=%.2f'%sw[1])\n",
        "plot_acf(x.dropna())\n",
        "plt.xlabel('Lag')\n",
        "plt.ylabel('ACF')\n",
        "#plot_pacf(x)\n",
        "\n",
        "\n",
        "\n"
      ],
      "execution_count": null,
      "outputs": [
        {
          "output_type": "stream",
          "name": "stderr",
          "text": [
            "/usr/local/lib/python3.7/dist-packages/scipy/stats/morestats.py:1760: UserWarning: p-value may not be accurate for N > 5000.\n",
            "  warnings.warn(\"p-value may not be accurate for N > 5000.\")\n"
          ]
        },
        {
          "output_type": "stream",
          "name": "stdout",
          "text": [
            "ShapiroResult(statistic=0.9483932852745056, pvalue=0.0)\n"
          ]
        },
        {
          "output_type": "execute_result",
          "data": {
            "text/plain": [
              "Text(0, 0.5, 'ACF')"
            ]
          },
          "metadata": {},
          "execution_count": 5
        },
        {
          "output_type": "display_data",
          "data": {
            "text/plain": [
              "<Figure size 432x288 with 1 Axes>"
            ],
            "image/png": "[encoded data removed]"
          },
          "metadata": {
            "needs_background": "light"
          }
        },
        {
          "output_type": "display_data",
          "data": {
            "text/plain": [
              "<Figure size 432x288 with 1 Axes>"
            ],
            "image/png": "[encoded data removed]"
          },
          "metadata": {
            "needs_background": "light"
          }
        }
      ]
    },
    {
      "cell_type": "markdown",
      "metadata": {
        "id": "mA3JEY6tFhJu"
      },
      "source": [
        "**Question**: Does the auto-correlation function indicate that the remainder is indeed uncorrelated with its lag?\n",
        "\n",
        "**ANSWER**: The ACF plot here shows that they are indeed uncorrelated, with the values of the ACF being close to 0. The SW test also indicates that the null hypothesis is rejected - further confirming that the two models are not correlated. This confirms that the remainder is close to random noise."
      ]
    },
    {
      "cell_type": "markdown",
      "source": [
        "##3.3. Stationarity analysis\n",
        "\n",
        "This section examines whether the trend of the data is a stochastic process. We address this question using the scatter plot of the time-series against a 1-\n",
        "lagged version of it and the rolling mean statistical technique."
      ],
      "metadata": {
        "id": "h2SiyBGo-PIp"
      }
    },
    {
      "cell_type": "markdown",
      "source": [
        "###3.3.1. Scatter plot method\n",
        "\n",
        "Note: \n",
        ">The data is already decomposed and stored in variable 'trend'\n",
        "\n",
        ">We will need to create a lagged dataset"
      ],
      "metadata": {
        "id": "Gsim5Vhk_xSu"
      }
    },
    {
      "cell_type": "code",
      "metadata": {
        "colab": {
          "base_uri": "https://localhost:8080/",
          "height": 279
        },
        "id": "vN4549WcVrYD",
        "outputId": "f8a5b6a2-decc-4d9d-f3fe-352ba382059d"
      },
      "source": [
        "import numpy as np\n",
        "import pandas as pd\n",
        "import scipy\n",
        "import scipy.stats as st\n",
        "\n",
        "#name trend data1 - 'data' is already taken.\n",
        "data1 = trend\n",
        "\n",
        "#I create 1-lag using <.shift>\n",
        "data2 = data1.shift(1)\n",
        "\n",
        "plt.xlabel('x1')\n",
        "plt.ylabel('x2')\n",
        "plt.scatter(data1, data2)\n",
        "plt.show()\n",
        "\n"
      ],
      "execution_count": null,
      "outputs": [
        {
          "output_type": "display_data",
          "data": {
            "text/plain": [
              "<Figure size 432x288 with 1 Axes>"
            ],
            "image/png": "[encoded data removed]"
          },
          "metadata": {
            "needs_background": "light"
          }
        }
      ]
    },
    {
      "cell_type": "markdown",
      "source": [
        "###3.3.2. Statistical method: Rolling mean analysis\n",
        "\n",
        "This tests the stability of the model over time and examines whether the coefficients are time-invariant (i.e., stationary)"
      ],
      "metadata": {
        "id": "XTNw30CRF_pt"
      }
    },
    {
      "cell_type": "code",
      "metadata": {
        "id": "rHJf36QCGxOI",
        "colab": {
          "base_uri": "https://localhost:8080/",
          "height": 519
        },
        "outputId": "876179e7-2ab2-4c1e-d750-e7278997020b"
      },
      "source": [
        "\n",
        "#  plot rolling statistics \n",
        "rolling_mean = data.rolling(window=12).mean()\n",
        "rolling_std = data.rolling(window=12).std()\n",
        "plt.plot(data, label = 'raw data')\n",
        "plt.plot(rolling_mean, label = 'rolling mean')\n",
        "plt.plot(rolling_std, label = 'rolling std')\n",
        "plt.title('Rolling statistics')\n",
        "plt.legend()\n",
        "print(data.size)\n",
        "print(rolling_mean)\n",
        "x2 = data -rolling_mean\n",
        "x3 = x2.dropna()\n",
        "print(x3.size)\n",
        "\n",
        "\n",
        "\n"
      ],
      "execution_count": null,
      "outputs": [
        {
          "output_type": "stream",
          "name": "stdout",
          "text": [
            "200000\n",
            "70000          NaN\n",
            "70001          NaN\n",
            "70002          NaN\n",
            "70003          NaN\n",
            "70004          NaN\n",
            "            ...   \n",
            "269995    4.666667\n",
            "269996    4.500000\n",
            "269997    4.500000\n",
            "269998    4.416667\n",
            "269999    4.750000\n",
            "Name: 1, Length: 200000, dtype: float64\n",
            "199989\n"
          ]
        },
        {
          "output_type": "display_data",
          "data": {
            "text/plain": [
              "<Figure size 432x288 with 1 Axes>"
            ],
            "image/png": "[encoded data removed]"
          },
          "metadata": {
            "needs_background": "light"
          }
        }
      ]
    },
    {
      "cell_type": "markdown",
      "metadata": {
        "id": "2-JcFZOsMcYj"
      },
      "source": [
        "**Question**: Is the trend of the data a stochastic process?\n",
        "\n",
        "**Answer**: The 1-lagged scatterplot of the trend data is basically diagonal, which suggests that it is not stochastic/stationary. This is also confirmed by the rolling mean test.\n",
        "\n"
      ]
    },
    {
      "cell_type": "markdown",
      "source": [
        "#3.4. Evalution of model quality\n",
        "\n",
        "One way of judging the quality of a model is through the randomness of the remainder. A good model of the trend should lead to a remainder that is close to a normal random variable. There are multiple ways of checking the remainder, e.g., explicitly modelling its probability distribution, looking\n",
        "at its correlation structure, or using hypothesis tests. In this study we use an ADF test to evaluate the model."
      ],
      "metadata": {
        "id": "6U7TqJjmLgPz"
      }
    },
    {
      "cell_type": "code",
      "metadata": {
        "id": "1AGZ9Et7M4gl",
        "colab": {
          "base_uri": "https://localhost:8080/"
        },
        "outputId": "ad2ee555-4dfd-44f8-c537-0884de8e9d04"
      },
      "source": [
        "x = remainder\n",
        "x1 = x.dropna()\n",
        "from statsmodels.tsa.stattools import adfuller\n",
        "result = adfuller(x1)\n",
        "print('ADF Statistic: %f' % result[0])\n",
        "print('p-value: %f' % result[1])\n",
        "print('Critical Values:')\n",
        "for key, value in result[4].items():\n",
        "\tprint('\\t%s: %.3f' % (key, value))\n",
        "p0 = result[1]\n"
      ],
      "execution_count": null,
      "outputs": [
        {
          "output_type": "stream",
          "name": "stdout",
          "text": [
            "ADF Statistic: -81.529688\n",
            "p-value: 0.000000\n",
            "Critical Values:\n",
            "\t1%: -3.430\n",
            "\t5%: -2.862\n",
            "\t10%: -2.567\n"
          ]
        }
      ]
    },
    {
      "cell_type": "markdown",
      "metadata": {
        "id": "MWeOO90wsyRK"
      },
      "source": [
        "**Question**: Is the remainder stationary or does it change as a function of time? \n",
        "\n",
        "**Answer**: The result of the ADF test confirms that the remainder is stationary (as seen in the significantly low p-value). This confirms (what we also saw from the analysis of of the autocorrelation function in 3.2) that remainder is uncorrelated. This is what we would expect because after decomposition where information was extracted to compute the trend/forecast. If it were non-atinary it would mean that there is still useful information remaning and the decomposition process is not complere. From this I conclude that the remainder is essentially close to a random process.\n",
        "\n"
      ]
    }
  ]
}
